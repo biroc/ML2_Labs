{
 "cells": [
  {
   "cell_type": "markdown",
   "metadata": {
    "deletable": true,
    "editable": true
   },
   "source": [
    "# Lab 2: Inference in Graphical Models\n",
    "\n",
    "### Machine Learning 2 (2016/2017)\n",
    "\n",
    "* The lab exercises should be made in groups of two people or individually.\n",
    "* The hand-in deadline is Wednesday, May 10, 23:59.\n",
    "* Assignment should be sent to p.j.j.p.versteeg@uva.nl. The subject line of your email should be \"[ML2_2017] lab#_lastname1\\_lastname2\". \n",
    "* Put your and your teammates' names in the body of the email\n",
    "* Attach the .IPYNB (IPython Notebook) file containing your code and answers. Naming of the file follows the same rule as the subject line. For example, if the subject line is \"[ML2_2017] lab02\\_Bongers\\_Blom\", the attached file should be \"lab02\\_Bongers\\_Blom.ipynb\". Only use underscores (\"\\_\") to connect names, otherwise the files cannot be parsed.\n",
    "\n",
    "Notes on implementation:\n",
    "\n",
    "* You should write your code and answers in an IPython Notebook: http://ipython.org/notebook.html. If you have problems, please ask or e-mail Philip.\n",
    "* For some of the questions, you can write the code directly in the first code cell that provides the class structure.\n",
    "* Among the first lines of your notebook should be \"%pylab inline\". This imports all required modules, and your plots will appear inline.\n",
    "* NOTE: test your code and make sure we can run your notebook / scripts!"
   ]
  },
  {
   "cell_type": "markdown",
   "metadata": {
    "deletable": true,
    "editable": true
   },
   "source": [
    "### Introduction\n",
    "In this assignment, we will implement the sum-product and max-sum algorithms for factor graphs over discrete variables. The relevant theory is covered in chapter 8 of Bishop's PRML book, in particular section 8.4. Read this chapter carefuly before continuing!\n",
    "\n",
    "We will first implement sum-product and max-sum and apply it to a simple poly-tree structured factor graph for medical diagnosis. Then, we will implement a loopy version of the algorithms and use it for image denoising.\n",
    "\n",
    "For this assignment we recommended you stick to numpy ndarrays (constructed with np.array, np.zeros, np.ones, etc.) as opposed to numpy matrices, because arrays can store n-dimensional arrays whereas matrices only work for 2d arrays. We need n-dimensional arrays in order to store conditional distributions with more than 1 conditioning variable. If you want to perform matrix multiplication on arrays, use the np.dot function; all infix operators including *, +, -, work element-wise on arrays."
   ]
  },
  {
   "cell_type": "markdown",
   "metadata": {
    "deletable": true,
    "editable": true
   },
   "source": [
    "## Part 1: The sum-product algorithm\n",
    "\n",
    "We will implement a datastructure to store a factor graph and to facilitate computations on this graph. Recall that a factor graph consists of two types of nodes, factors and variables. Below you will find some classes for these node types to get you started. Carefully inspect this code and make sure you understand what it does; you will have to build on it later."
   ]
  },
  {
   "cell_type": "code",
   "execution_count": 7,
   "metadata": {
    "collapsed": false,
    "deletable": true,
    "editable": true
   },
   "outputs": [
    {
     "name": "stdout",
     "output_type": "stream",
     "text": [
      "Populating the interactive namespace from numpy and matplotlib\n"
     ]
    }
   ],
   "source": [
    "%pylab inline\n",
    "class Node(object):\n",
    "    \"\"\"\n",
    "    Base-class for Nodes in a factor graph. Only instantiate sub-classes of Node.\n",
    "    \"\"\"\n",
    "    def __init__(self, name):\n",
    "        # A name for this Node, for printing purposes\n",
    "        self.name = name\n",
    "        \n",
    "        # Neighbours in the graph, identified with their index in this list.\n",
    "        # i.e. self.neighbours contains neighbour 0 through len(self.neighbours) - 1.\n",
    "        self.neighbours = []\n",
    "        \n",
    "        # Reset the node-state (not the graph topology)\n",
    "        self.reset()\n",
    "        \n",
    "    def reset(self):\n",
    "        # Incoming messages; a dictionary mapping neighbours to messages.\n",
    "        # That is, it maps  Node -> np.ndarray.\n",
    "        self.in_msgs = {}\n",
    "        \n",
    "        # A set of neighbours for which this node has pending messages.\n",
    "        # We use a python set object so we don't have to worry about duplicates.\n",
    "        self.pending = set([])\n",
    "\n",
    "    def add_neighbour(self, nb):\n",
    "        self.neighbours.append(nb)\n",
    "\n",
    "    def send_sp_msg(self, other):\n",
    "        # To be implemented in subclass.\n",
    "        raise Exception('Method send_sp_msg not implemented in base-class Node')\n",
    "   \n",
    "    def send_ms_msg(self, other):\n",
    "        # To be implemented in subclass.\n",
    "        raise Exception('Method send_ms_msg not implemented in base-class Node')\n",
    "    \n",
    "    def receive_msg(self, other, msg):\n",
    "        # Store the incomming message, replacing previous messages from the same node\n",
    "        self.in_msgs[other] = msg\n",
    "\n",
    "        # TODO: add pending messages\n",
    "        # self.pending.update(...)\n",
    "    \n",
    "    def __str__(self):\n",
    "        # This is printed when using 'print node_instance'\n",
    "        return self.name\n",
    "\n",
    "\n",
    "class Variable(Node):\n",
    "    def __init__(self, name, num_states):\n",
    "        \"\"\"\n",
    "        Variable node constructor.\n",
    "        Args:\n",
    "            name: a name string for this node. Used for printing. \n",
    "            num_states: the number of states this variable can take.\n",
    "            Allowable states run from 0 through (num_states - 1).\n",
    "            For example, for a binary variable num_states=2,\n",
    "            and the allowable states are 0, 1.\n",
    "        \"\"\"\n",
    "        self.num_states = num_states\n",
    "        \n",
    "        # Call the base-class constructor\n",
    "        super(Variable, self).__init__(name)\n",
    "    \n",
    "    def set_observed(self, observed_state):\n",
    "        \"\"\"\n",
    "        Set this variable to an observed state.\n",
    "        Args:\n",
    "            observed_state: an integer value in [0, self.num_states - 1].\n",
    "        \"\"\"\n",
    "        # Observed state is represented as a 1-of-N variable\n",
    "        # Could be 0.0 for sum-product, but log(0.0) = -inf so a tiny value is preferable for max-sum\n",
    "        self.observed_state[:] = 0.000001 \n",
    "        self.observed_state[observed_state] = 1.0\n",
    "        \n",
    "    def set_latent(self):\n",
    "        \"\"\"\n",
    "        Erase an observed state for this variable and consider it latent again.\n",
    "        \"\"\"\n",
    "        # No state is preferred, so set all entries of observed_state to 1.0\n",
    "        # Using this representation we need not differentiate between observed and latent\n",
    "        # variables when sending messages.\n",
    "        self.observed_state[:] = 1.0\n",
    "        \n",
    "    def reset(self):\n",
    "        super(Variable, self).reset()\n",
    "        self.observed_state = np.ones(self.num_states)\n",
    "        \n",
    "    def marginal(self, Z=None):\n",
    "        \"\"\"\n",
    "        Compute the marginal distribution of this Variable.\n",
    "        It is assumed that message passing has completed when this function is called.\n",
    "        Args:\n",
    "            Z: an optional normalization constant can be passed in. If None is passed, Z is computed.\n",
    "        Returns: marginal, Z. The first is a numpy array containing the normalized marginal distribution.\n",
    "         Z is either equal to the input Z, or computed in this function (if Z=None was passed).\n",
    "        \"\"\"\n",
    "        # TODO: compute marginal\n",
    "        return None, Z\n",
    "    \n",
    "    def send_sp_msg(self, other):\n",
    "        # TODO: implement Variable -> Factor message for sum-product\n",
    "        pass\n",
    "   \n",
    "    def send_ms_msg(self, other):\n",
    "        # TODO: implement Variable -> Factor message for max-sum\n",
    "        pass\n",
    "\n",
    "class Factor(Node):\n",
    "    def __init__(self, name, f, neighbours):\n",
    "        \"\"\"\n",
    "        Factor node constructor.\n",
    "        Args:\n",
    "            name: a name string for this node. Used for printing\n",
    "            f: a numpy.ndarray with N axes, where N is the number of neighbours.\n",
    "               That is, the axes of f correspond to variables, and the index along that axes corresponds to a value of that variable.\n",
    "               Each axis of the array should have as many entries as the corresponding neighbour variable has states.\n",
    "            neighbours: a list of neighbouring Variables. Bi-directional connections are created.\n",
    "        \"\"\"\n",
    "        # Call the base-class constructor\n",
    "        super(Factor, self).__init__(name)\n",
    "\n",
    "        assert len(neighbours) == f.ndim, 'Factor function f should accept as many arguments as this Factor node has neighbours'\n",
    "        \n",
    "        for nb_ind in range(len(neighbours)):\n",
    "            nb = neighbours[nb_ind]\n",
    "            assert f.shape[nb_ind] == nb.num_states, 'The range of the factor function f is invalid for input %i %s' % (nb_ind, nb.name)\n",
    "            self.add_neighbour(nb)\n",
    "            nb.add_neighbour(self)\n",
    "\n",
    "        self.f = f\n",
    "        \n",
    "    def send_sp_msg(self, other):\n",
    "        # TODO\n",
    "        pass\n",
    "        \n",
    "   \n",
    "    def send_ms_msg(self, other):\n",
    "        # TODO: implement Factor -> Variable message for max-sum\n",
    "        pass\n"
   ]
  },
  {
   "cell_type": "markdown",
   "metadata": {
    "deletable": true,
    "editable": true
   },
   "source": [
    "### 1.1 Instantiate network (10 points)\n",
    "Convert the directed graphical model (\"Bayesian Network\") shown below to a factor graph. Instantiate this graph by creating Variable and Factor instances and linking them according to the graph structure. \n",
    "To instantiate the factor graph, first create the Variable nodes and then create Factor nodes, passing a list of neighbour Variables to each Factor.\n",
    "Use the following prior and conditional probabilities.\n",
    "\n",
    "$$\n",
    "p(\\verb+Influenza+) = 0.05 \\\\\\\\\n",
    "p(\\verb+Smokes+) = 0.2 \\\\\\\\\n",
    "$$\n",
    "\n",
    "$$\n",
    "p(\\verb+SoreThroat+ = 1 | \\verb+Influenza+ = 1) = 0.3 \\\\\\\\\n",
    "p(\\verb+SoreThroat+ = 1 | \\verb+Influenza+ = 0) = 0.001 \\\\\\\\\n",
    "p(\\verb+Fever+ = 1| \\verb+Influenza+ = 1) = 0.9 \\\\\\\\\n",
    "p(\\verb+Fever+ = 1| \\verb+Influenza+ = 0) = 0.05 \\\\\\\\\n",
    "p(\\verb+Bronchitis+ = 1 | \\verb+Influenza+ = 1, \\verb+Smokes+ = 1) = 0.99 \\\\\\\\\n",
    "p(\\verb+Bronchitis+ = 1 | \\verb+Influenza+ = 1, \\verb+Smokes+ = 0) = 0.9 \\\\\\\\\n",
    "p(\\verb+Bronchitis+ = 1 | \\verb+Influenza+ = 0, \\verb+Smokes+ = 1) = 0.7 \\\\\\\\\n",
    "p(\\verb+Bronchitis+ = 1 | \\verb+Influenza+ = 0, \\verb+Smokes+ = 0) = 0.0001 \\\\\\\\\n",
    "p(\\verb+Coughing+ = 1| \\verb+Bronchitis+ = 1) = 0.8 \\\\\\\\\n",
    "p(\\verb+Coughing+ = 1| \\verb+Bronchitis+ = 0) = 0.07 \\\\\\\\\n",
    "p(\\verb+Wheezing+ = 1| \\verb+Bronchitis+ = 1) = 0.6 \\\\\\\\\n",
    "p(\\verb+Wheezing+ = 1| \\verb+Bronchitis+ = 0) = 0.001 \\\\\\\\\n",
    "$$"
   ]
  },
  {
   "cell_type": "code",
   "execution_count": 36,
   "metadata": {
    "collapsed": false,
    "deletable": true,
    "editable": true
   },
   "outputs": [
    {
     "data": {
      "image/png": "[encoded data removed]",
      "text/plain": [
       "<IPython.core.display.Image object>"
      ]
     },
     "execution_count": 36,
     "metadata": {},
     "output_type": "execute_result"
    }
   ],
   "source": [
    "from IPython.core.display import Image \n",
    "Image(filename='bn.png')"
   ]
  },
  {
   "cell_type": "code",
   "execution_count": 37,
   "metadata": {
    "collapsed": false,
    "deletable": true,
    "editable": true
   },
   "outputs": [
    {
     "data": {
      "image/png": "[encoded data removed]",
      "text/plain": [
       "<IPython.core.display.Image object>"
      ]
     },
     "execution_count": 37,
     "metadata": {},
     "output_type": "execute_result"
    }
   ],
   "source": [
    "Image(filename='factor.png')"
   ]
  },
  {
   "cell_type": "markdown",
   "metadata": {
    "deletable": true,
    "editable": true
   },
   "source": [
    "$$f_1 = P(Influenza)$$\n",
    "$$f_2 = P(SoreThroat|Influenza)$$ \n",
    "$$f_3 = P(Fever|Influenza)$$\n",
    "$$f_4 = P(Bronchitis|Smokes, Influenza)$$\n",
    "$$f_5 = P(Choughing|Bronchitis)$$\n",
    "$$f_6 = P(Wheeze|Bronchitis)$$\n",
    "$$f_7 = P(Smokes)$$"
   ]
  },
  {
   "cell_type": "code",
   "execution_count": 50,
   "metadata": {
    "collapsed": false,
    "deletable": true,
    "editable": true
   },
   "outputs": [],
   "source": [
    "# YOUR ANSWER HERE\n",
    "### INITIALIZE VARIABLES\n",
    "def init_vars():\n",
    "    names = ['Influenza', 'SoreThroat', 'Fever', 'Bronchitis', 'Choughing', 'Smokes', 'Wheeze']\n",
    "    states = [2] * len(names)\n",
    "    return [Variable(names[i], states[i]) for i in range(len(states))]\n",
    "\n",
    "infl, sthroat, fever, bronch, chough, smokes, wheeze = init_vars()\n",
    "\n",
    "\"\"\"\n",
    "INITIALIZE FACTOR NODES\n",
    "Factors will have N axes, where N is the number of neighbours, for example\n",
    "f_2 has 2 neighbours, respectively SThroat and Influenza. \"Each axis of the array should have as \n",
    "many entries as the corresponding neighbour variable has states\".\n",
    "Let's say we have Influenza on axis 0, and Sthroat on axis 1.\n",
    "\n",
    "p(𝚂𝚘𝚛𝚎𝚃𝚑𝚛𝚘𝚊𝚝=1|𝙸𝚗𝚏𝚕𝚞𝚎𝚗𝚣𝚊=1)=0.3 => P(SoreThroat=0|Influenza=1) = 0.7\n",
    "p(𝚂𝚘𝚛𝚎𝚃𝚑𝚛𝚘𝚊𝚝=1|𝙸𝚗𝚏𝚕𝚞𝚎𝚗𝚣𝚊=0)=0.001 => P(SoreThroat=0|Influenza=0) = 0.999\n",
    "            \n",
    "                 Sthroat\n",
    "                0       1\n",
    "            0   0.999 | 0.001\n",
    "Influenza      ---------------\n",
    "            1  0.7    | 0.3\n",
    "            \n",
    "We can refactor it into something more general later on.\n",
    "\"\"\"\n",
    "def init_factors(infl, sthroat, fever, bronch, chough, smokes, wheeze):\n",
    "    # Index on a specific axes coresponds to the state of the variable.\n",
    "    # f_1\n",
    "    f1_neigh = [infl]\n",
    "    f1_vals = np.array([0.95, 0.05])\n",
    "    f1 = Factor('f1', f1_vals, f1_neigh)\n",
    "    \n",
    "    # f_2\n",
    "    f2_neigh = [infl, sthroat] # Infl-> axis 0, Sthroat -> axis 1\n",
    "    f2_vals = np.array([[0.999, 0.001], \n",
    "                        [0.7, 0.3]]) \n",
    "    f2 = Factor('f2', f2_vals, f2_neigh)\n",
    "    \n",
    "    # f_3\n",
    "    # p(𝙵𝚎𝚟𝚎𝚛=1|𝙸𝚗𝚏𝚕𝚞𝚎𝚗𝚣𝚊=1)=0.9  => P(Fever=0|Influenza=1) = 0.1\n",
    "    # p(𝙵𝚎𝚟𝚎𝚛=1|𝙸𝚗𝚏𝚕𝚞𝚎𝚗𝚣𝚊=0)=0.05 => P(Fever=0|Influenza=0) = 0.95\n",
    "    f3_neigh = [infl, fever] # Infl-> axis 0, fever -> axis 1\n",
    "    f3_vals = np.array([[0.95, 0.05], \n",
    "                        [0.1, 0.9]])\n",
    "    f3 = Factor('f3', f3_vals, f3_neigh)\n",
    "    \n",
    "    # f_4\n",
    "    # p(𝙱𝚛𝚘𝚗𝚌𝚑𝚒𝚝𝚒𝚜=1|𝙸𝚗𝚏𝚕𝚞𝚎𝚗𝚣𝚊=1,𝚂𝚖𝚘𝚔𝚎𝚜=1)=0.99 => p(𝙱𝚛𝚘𝚗𝚌𝚑𝚒𝚝𝚒𝚜=0|𝙸𝚗𝚏𝚕𝚞𝚎𝚗𝚣𝚊=1,𝚂𝚖𝚘𝚔𝚎𝚜=1)=0.01\n",
    "    # p(𝙱𝚛𝚘𝚗𝚌𝚑𝚒𝚝𝚒𝚜=1|𝙸𝚗𝚏𝚕𝚞𝚎𝚗𝚣𝚊=1,𝚂𝚖𝚘𝚔𝚎𝚜=0)=0.9 => p(𝙱𝚛𝚘𝚗𝚌𝚑𝚒𝚝𝚒𝚜=0|𝙸𝚗𝚏𝚕𝚞𝚎𝚗𝚣𝚊=1,𝚂𝚖𝚘𝚔𝚎𝚜=0)=0.1\n",
    "    # p(𝙱𝚛𝚘𝚗𝚌𝚑𝚒𝚝𝚒𝚜=1|𝙸𝚗𝚏𝚕𝚞𝚎𝚗𝚣𝚊=0,𝚂𝚖𝚘𝚔𝚎𝚜=1)=0.7 => p(𝙱𝚛𝚘𝚗𝚌𝚑𝚒𝚝𝚒𝚜=0|𝙸𝚗𝚏𝚕𝚞𝚎𝚗𝚣𝚊=0,𝚂𝚖𝚘𝚔𝚎𝚜=1)=0.3\n",
    "    # p(𝙱𝚛𝚘𝚗𝚌𝚑𝚒𝚝𝚒𝚜=1|𝙸𝚗𝚏𝚕𝚞𝚎𝚗𝚣𝚊=0,𝚂𝚖𝚘𝚔𝚎𝚜=0)=0.0001 => p(𝙱𝚛𝚘𝚗𝚌𝚑𝚒𝚝𝚒𝚜=0|𝙸𝚗𝚏𝚕𝚞𝚎𝚗𝚣𝚊=0,𝚂𝚖𝚘𝚔𝚎𝚜=0)=0.9999\n",
    "    f4_vals = np.zeros((2,2,2))\n",
    "    f4_neigh = [infl, smokes, bronch]\n",
    "    f4_vals[0,0,0], f4_vals[0,0,1] = 0.9999, 0.0001\n",
    "    f4_vals[1,0,0], f4_vals[1,0,1] = 0.1, 0.9\n",
    "    f4_vals[1,1,1], f4_vals[1,1,0] = 0.99, 0.01\n",
    "    f4_vals[0,1,0], f4_vals[0,1,1] = 0.3, 0.7\n",
    "    f4 = Factor('f4', f4_vals, f4_neigh)\n",
    "    \n",
    "    # f_5\n",
    "    # p(𝙲𝚘𝚞𝚐𝚑𝚒𝚗𝚐=1|𝙱𝚛𝚘𝚗𝚌𝚑𝚒𝚝𝚒𝚜=1)=0.8 => p(Choughing=0|Bronchitis=1) = 0.2\n",
    "    # p(𝙲𝚘𝚞𝚐𝚑𝚒𝚗𝚐=1|𝙱𝚛𝚘𝚗𝚌𝚑𝚒𝚝𝚒𝚜=0)=0.07 => p(Choughing=0|Bornchitis=0) = 0.93\n",
    "    f5_neigh = [bronch, chough]\n",
    "    f5_vals = np.array([[0.93, 0.07], [0.2, 0.8]])\n",
    "    f5 = Factor('f5', f5_vals, f5_neigh)\n",
    "    \n",
    "    # f_6\n",
    "    # p(𝚆𝚑𝚎𝚎𝚣𝚒𝚗𝚐=1|𝙱𝚛𝚘𝚗𝚌𝚑𝚒𝚝𝚒𝚜=1)=0.6 => P(Wheezing=0|Bronchitis=1) = 0.4\n",
    "    # p(𝚆𝚑𝚎𝚎𝚣𝚒𝚗𝚐=1|𝙱𝚛𝚘𝚗𝚌𝚑𝚒𝚝𝚒𝚜=0)=0.001 => P(Wheezing=0|Bronchitis=0) = 0.999\n",
    "    f6_neigh = [bronch, wheeze]\n",
    "    f6_vals = np.array([[0.999, 0.001],[0.4, 0.6]])\n",
    "    f6 = Factor('f6', f6_vals, f6_neigh)\n",
    "    \n",
    "    # f_7\n",
    "    # p(𝚂𝚖𝚘𝚔𝚎𝚜 = 1)=0.2\n",
    "    f7_neigh = [smokes]\n",
    "    f7_vals = np.array([0.8, 0.2])\n",
    "    f7 = Factor('f7', f7_vals, f7_neigh)\n",
    "    \n",
    "    return f1,f2,f3,f4,f5,f6,f7\n",
    "\n",
    "f1,f2,f3,f4,f5,f6,f7 = init_factors(infl, sthroat, fever, bronch, chough, smokes, wheeze)"
   ]
  },
  {
   "cell_type": "markdown",
   "metadata": {
    "deletable": true,
    "editable": true
   },
   "source": [
    "### 1.2 Factor to variable messages (20 points)\n",
    "Write a method `send_sp_msg(self, other)` for the Factor class, that checks if all the information required to pass a message to Variable `other` is present, computes the message and sends it to `other`. \"Sending\" here simply means calling the `receive_msg` function of the receiving node (we will implement this later). The message itself should be represented as a numpy array (np.array) whose length is equal to the number of states of the variable.\n",
    "\n",
    "An elegant and efficient solution can be obtained using the n-way outer product of vectors. This product takes n vectors $\\mathbf{x}^{(1)}, \\ldots, \\mathbf{x}^{(n)}$ and computes a $n$-dimensional tensor (ndarray) whose element $i_0,i_1,...,i_n$ is given by $\\prod_j \\mathbf{x}^{(j)}_{i_j}$. In python, this is realized as `np.multiply.reduce(np.ix_(*vectors))` for a python list `vectors` of 1D numpy arrays. Try to figure out how this statement works -- it contains some useful functional programming techniques. Another function that you may find useful in computing the message is `np.tensordot`."
   ]
  },
  {
   "cell_type": "code",
   "execution_count": 51,
   "metadata": {
    "collapsed": false,
    "deletable": true,
    "editable": true
   },
   "outputs": [],
   "source": [
    "import sys\n",
    "\n",
    "if sys.version_info[0] >= 3.0:\n",
    "    from functools import reduce \n",
    "\n",
    "def factor_send_sp_msg(self, other):\n",
    "    \"\"\"\n",
    "    Sends a message to a variable from the current factor.\n",
    "    - other: Variable to send message to.\n",
    "    \"\"\"\n",
    "    if type(other) is not Variable:\n",
    "        raise TypeError('Factor nodes can only send messages to Variables.')\n",
    "\n",
    "    if other not in self.neighbours:\n",
    "        raise ValueError('Cannot send message to a non-neighbour node.')\n",
    "\n",
    "    # Get messages from all neighbours except other\n",
    "    messages = [self.in_msgs[neighbour] for neighbour in self.neighbours if neighbour != other]\n",
    "    \n",
    "    # Obtain product of all received messages\n",
    "    # \\prod \\mu_x -> f(x)\n",
    "    received_prod = reduce(np.outer, messages) if messages else 1\n",
    "\n",
    "    # Obtain indices to reduce in tensordot\n",
    "    # Tensordot is essentially dot product extended to more dimensions. \n",
    "    # It will perform sum-reduction, i.e. reduce the respective axes after multiplication\n",
    "    # by summing over them.\n",
    "    # See: https://docs.scipy.org/doc/numpy/reference/generated/numpy.tensordot.html\n",
    "    f_axes = [i for i in range(len(self.neighbours)) if i != self.neighbours.index(other)]\n",
    "    m_axes = range(len(self.neighbours) - 1)\n",
    "\n",
    "    # Compute message\n",
    "    message = np.tensordot(self.f, received_prod, axes=(f_axes, m_axes))\n",
    "    print('{} sending message to {}, message is: {}'.format(self.name, other.name, message))\n",
    "    \n",
    "    # Send message\n",
    "    other.receive_msg(self, message)\n",
    "    \n",
    "    # \"Modify the send_msg functions to remove pending messages as they are sent.\"\n",
    "    self.pending.remove(other)\n",
    "\n",
    "Factor.send_sp_message = factor_send_sp_msg"
   ]
  },
  {
   "cell_type": "markdown",
   "metadata": {
    "deletable": true,
    "editable": true
   },
   "source": [
    "### 1.3 Variable to factor messages (10 points)\n",
    "\n",
    "Write a method `send_sp_message(self, other)` for the Variable class, that checks if all the information required to pass a message to Variable var is present, computes the message and sends it to factor."
   ]
  },
  {
   "cell_type": "code",
   "execution_count": 52,
   "metadata": {
    "collapsed": true,
    "deletable": true,
    "editable": true
   },
   "outputs": [],
   "source": [
    "def variable_send_sp_message(self, other):\n",
    "    if type(other) is not Factor:\n",
    "        raise TypeError('Variable nodes can only send messages to Factor nodes.')\n",
    "        \n",
    "    if other not in self.neighbours:\n",
    "        raise ValueError('Cannot send message to a non-neighbour node.')\n",
    "    \n",
    "    # Get messages from all neighbours except other\n",
    "    messages = [self.in_msgs[neighbour] for neighbour in self.neighbours if neighbour != other]\n",
    "    \n",
    "    # Get message to be sent\n",
    "    message = np.prod(messages, axis=0) * self.observed_state\n",
    "    print('{} sending message to {}, message is: {}'.format(self.name, other.name, message))\n",
    "    \n",
    "    # Send message to neighbour factor.\n",
    "    other.receive_msg(self, message)\n",
    "    \n",
    "    # \"Modify the send_msg functions to remove pending messages as they are sent.\"\n",
    "    self.pending.remove(other)\n",
    "    \n",
    "Variable.send_sp_message = variable_send_sp_message"
   ]
  },
  {
   "cell_type": "markdown",
   "metadata": {
    "deletable": true,
    "editable": true
   },
   "source": [
    "### 1.4 Compute marginal (10 points)\n",
    "Later in this assignment, we will implement message passing schemes to do inference. Once the message passing has completed, we will want to compute local marginals for each variable.\n",
    "Write the method `marginal` for the Variable class, that computes a marginal distribution over that node."
   ]
  },
  {
   "cell_type": "code",
   "execution_count": 148,
   "metadata": {
    "collapsed": true,
    "deletable": true,
    "editable": true
   },
   "outputs": [],
   "source": [
    "def variable_marginal(self, Z=None, max_sum=False):\n",
    "    \"\"\"\n",
    "    Compute and return marginal of a variable after\n",
    "    the message passing has completed.\n",
    "    \"\"\"\n",
    "    if len(self.in_msgs) != len(self.neighbours):\n",
    "        raise Exception('Have not received messages from all neighbours')\n",
    "    \n",
    "    messages = list(self.in_msgs.values())\n",
    "    if max_sum:\n",
    "        unnorm_marginal = np.sum(messages, axis=0) + np.log(self.observed_state)\n",
    "    else:\n",
    "        unnorm_marginal = np.prod(messages, axis=0) * self.observed_state\n",
    "    Z = Z if Z is not None else sum(unnorm_marginal)\n",
    "    return unnorm_marginal / Z, Z\n",
    "\n",
    "Variable.marginal = variable_marginal"
   ]
  },
  {
   "cell_type": "markdown",
   "metadata": {
    "deletable": true,
    "editable": true
   },
   "source": [
    "### 1.5 Receiving messages (10 points)\n",
    "In order to implement the loopy and non-loopy message passing algorithms, we need some way to determine which nodes are ready to send messages to which neighbours. To do this in a way that works for both loopy and non-loopy algorithms, we make use of the concept of \"pending messages\", which is explained in Bishop (8.4.7): \n",
    "\"we will say that a (variable or factor)\n",
    "node a has a message pending on its link to a node b if node a has received any\n",
    "message on any of its other links since the last time it send (sic) a message to b. Thus,\n",
    "when a node receives a message on one of its links, this creates pending messages\n",
    "on all of its other links.\"\n",
    "\n",
    "Keep in mind that for the non-loopy algorithm, nodes may not have received any messages on some or all of their links. Therefore, before we say node a has a pending message for node b, we must check that node a has received all messages needed to compute the message that is to be sent to b.\n",
    "\n",
    "Modify the function `receive_msg`, so that it updates the self.pending variable as described above. The member self.pending is a set that is to be filled with Nodes to which self has pending messages. Modify the `send_msg` functions to remove pending messages as they are sent."
   ]
  },
  {
   "cell_type": "code",
   "execution_count": 149,
   "metadata": {
    "collapsed": true,
    "deletable": true,
    "editable": true
   },
   "outputs": [],
   "source": [
    "def node_receive_msg(self, other, msg):\n",
    "        # Store the incomming message, replacing previous messages from the same node\n",
    "        self.in_msgs[other] = msg\n",
    "        \n",
    "        # Given that we have received a message from 'other'\n",
    "        # we want to update the 'pending link' with all other nodes.\n",
    "        num_nbs = len(self.neighbours)\n",
    "        num_msgs = len(self.in_msgs)\n",
    "        \n",
    "        # Idea here is that to check that we have messages from all other nodes\n",
    "        for neighbour in set(self.neighbours) - {other}:\n",
    "            # Node has received message from all nodes, including this one.\n",
    "            # or has received message from all other nodes.\n",
    "            if neighbour in self.in_msgs:\n",
    "                if num_nbs == num_msgs:\n",
    "                    self.pending.update([neighbour])\n",
    "            elif num_msgs == num_nbs - 1:\n",
    "                self.pending.update([neighbour])\n",
    "            \n",
    "Node.receive_msg = node_receive_msg"
   ]
  },
  {
   "cell_type": "markdown",
   "metadata": {
    "deletable": true,
    "editable": true
   },
   "source": [
    "### 1.6 Inference Engine (10 points)\n",
    "Write a function `sum_product(node_list)` that runs the sum-product message passing algorithm on a tree-structured factor graph with given nodes. The input parameter `node_list` is a list of all Node instances in the graph, which is assumed to be ordered correctly. That is, the list starts with a leaf node, which can always send a message. Subsequent nodes in `node_list` should be capable of sending a message when the pending messages of preceding nodes in the list have been sent. The sum-product algorithm then proceeds by passing over the list from beginning to end, sending all pending messages at the nodes it encounters. Then, in reverse order, the algorithm traverses the list again and again sends all pending messages at each node as it is encountered. For this to work, you must initialize pending messages for all the leaf nodes, e.g. `influenza_prior.pending.add(influenza)`, where `influenza_prior` is a Factor node corresponding the the prior, `influenza` is a Variable node and the only connection of `influenza_prior` goes to `influenza`.\n",
    "\n",
    "\n"
   ]
  },
  {
   "cell_type": "code",
   "execution_count": 150,
   "metadata": {
    "collapsed": false,
    "deletable": true,
    "editable": true
   },
   "outputs": [],
   "source": [
    "# YOUR ANSWER HERE\n",
    "def sum_product(node_list):\n",
    "    \"\"\"\n",
    "    node_list is a list of nodes ordered from leaf -> root.\n",
    "    \"\"\"\n",
    "    for node in node_list:\n",
    "        for pending in list(node.pending):\n",
    "            node.send_sp_message(pending)\n",
    "\n",
    "# Init vars\n",
    "infl, sthroat, fever, bronch, chough, smokes, wheeze = init_vars()\n",
    "f1,f2,f3,f4,f5,f6,f7 = init_factors(infl, sthroat, fever, bronch, chough, smokes, wheeze)\n",
    "            \n",
    "# Leafs\n",
    "f1.pending.update([infl])\n",
    "f7.pending.update([smokes])\n",
    "sthroat.pending.update([f2])\n",
    "fever.pending.update([f3])\n",
    "chough.pending.update([f5])\n",
    "# wheeze.pending.update([f6])"
   ]
  },
  {
   "cell_type": "code",
   "execution_count": 151,
   "metadata": {
    "collapsed": false,
    "deletable": true,
    "editable": true
   },
   "outputs": [
    {
     "name": "stdout",
     "output_type": "stream",
     "text": [
      "f1 sending message to Influenza, message is: [ 0.95  0.05]\n",
      "f7 sending message to Smokes, message is: [ 0.8  0.2]\n",
      "SoreThroat sending message to f2, message is: [ 1.  1.]\n",
      "Fever sending message to f3, message is: [ 1.  1.]\n",
      "Choughing sending message to f5, message is: [ 1.  1.]\n",
      "f2 sending message to Influenza, message is: [ 1.  1.]\n",
      "f3 sending message to Influenza, message is: [ 1.  1.]\n",
      "Smokes sending message to f4, message is: [ 0.8  0.2]\n",
      "Influenza sending message to f4, message is: [ 0.95  0.05]\n",
      "f4 sending message to Bronchitis, message is: [ 0.821024  0.178976]\n",
      "f5 sending message to Bronchitis, message is: [ 1.  1.]\n",
      "Bronchitis sending message to f6, message is: [ 0.821024  0.178976]\n",
      "f6 sending message to Wheeze, message is: [ 0.89179338  0.10820662]\n",
      "Wheeze sending message to f6, message is: [ 1.  1.]\n",
      "f6 sending message to Bronchitis, message is: [ 1.  1.]\n",
      "Bronchitis sending message to f4, message is: [ 1.  1.]\n",
      "Bronchitis sending message to f5, message is: [ 0.821024  0.178976]\n",
      "f5 sending message to Choughing, message is: [ 0.79934752  0.20065248]\n",
      "f4 sending message to Smokes, message is: [ 1.  1.]\n",
      "f4 sending message to Influenza, message is: [ 1.  1.]\n",
      "Influenza sending message to f2, message is: [ 0.95  0.05]\n",
      "Influenza sending message to f3, message is: [ 0.95  0.05]\n",
      "Influenza sending message to f1, message is: [ 1.  1.]\n",
      "Smokes sending message to f7, message is: [ 1.  1.]\n",
      "f3 sending message to Fever, message is: [ 0.9075  0.0925]\n",
      "f2 sending message to SoreThroat, message is: [ 0.98405  0.01595]\n",
      "Sum-Product marginals are: \n",
      "Marginal of SoreThroat is [ 0.98405  0.01595]\n",
      "Marginal of Fever is [ 0.9075  0.0925]\n",
      "Marginal of Choughing is [ 0.79934752  0.20065248]\n",
      "Marginal of Smokes is [ 0.8  0.2]\n",
      "Marginal of Influenza is [ 0.95  0.05]\n",
      "Marginal of Bronchitis is [ 0.821024  0.178976]\n",
      "Marginal of Wheeze is [ 0.89179338  0.10820662]\n"
     ]
    }
   ],
   "source": [
    "#### TEST RUN\n",
    "#### Set smokes as root node. \n",
    "# node_list = [f1, f7, sthroat, fever, wheeze, chough, f2,f3,f5,f6,infl,bronch,f4,smokes]\n",
    "node_list = [f1,f7,sthroat,fever,chough,f2,f3,smokes,infl,f4,f5,bronch,f6,wheeze]\n",
    "\n",
    "# first pass\n",
    "sum_product(node_list)\n",
    "\n",
    "wheeze.pending.update([f6])\n",
    "\n",
    "# second pass\n",
    "sum_product(reversed(node_list))\n",
    "\n",
    "# marignals\n",
    "print('Sum-Product marginals are: ')\n",
    "for node in node_list:\n",
    "    if type(node) is Variable:\n",
    "        marginal, _ = node.marginal(None)\n",
    "        print('Marginal of {} is {}'.format(node.name,marginal))"
   ]
  },
  {
   "cell_type": "markdown",
   "metadata": {
    "deletable": true,
    "editable": true
   },
   "source": [
    "### 1.7 Observed variables and probabilistic queries (15 points)\n",
    "We will now use the inference engine to answer probabilistic queries. That is, we will set certain variables to observed values, and obtain the marginals over latent variables. We have already provided functions `set_observed` and `set_latent` that manage a member of Variable called `observed_state`. Modify the `Variable.send_msg` and `Variable.marginal` routines that you wrote before, to use `observed_state` so as to get the required marginals when some nodes are observed."
   ]
  },
  {
   "cell_type": "code",
   "execution_count": 89,
   "metadata": {
    "collapsed": true,
    "deletable": true,
    "editable": true
   },
   "outputs": [],
   "source": [
    "# This has been already done/implemented, see above."
   ]
  },
  {
   "cell_type": "markdown",
   "metadata": {
    "deletable": true,
    "editable": true
   },
   "source": [
    "### 1.8 Sum-product and MAP states (5 points)\n",
    "A maximum a posteriori state (MAP-state) is an assignment of all latent variables that maximizes the probability of latent variables given observed variables:\n",
    "$$\n",
    "\\mathbf{x}_{\\verb+MAP+} = \\arg\\max _{\\mathbf{x}} p(\\mathbf{x} | \\mathbf{y})\n",
    "$$\n",
    "Could we use the sum-product algorithm to obtain a MAP state? If yes, how? If no, why not?\n"
   ]
  },
  {
   "cell_type": "markdown",
   "metadata": {
    "deletable": true,
    "editable": true
   },
   "source": [
    "Yes this can be done using the sum-product algorithm. To find the MAP for $p(x|y)$ we must consider the possible factorization of the components of $p(x|y)$ in the graph. We can then consider all possible states where for example $x$ is observed, and select the combination where the MAP is at its maximum. This is highly inefficient as we are recomputing messages each time we consider another state as observed. Hence, we should use the max-sum algorithm."
   ]
  },
  {
   "cell_type": "markdown",
   "metadata": {
    "deletable": true,
    "editable": true
   },
   "source": [
    "## Part 2: The max-sum algorithm\n",
    "Next, we implement the max-sum algorithm as described in section 8.4.5 of Bishop."
   ]
  },
  {
   "cell_type": "markdown",
   "metadata": {
    "deletable": true,
    "editable": true
   },
   "source": [
    "### 2.1 Factor to variable messages (10 points)\n",
    "Implement the function `Factor.send_ms_msg` that sends Factor -> Variable messages for the max-sum algorithm. It is analogous to the `Factor.send_sp_msg` function you implemented before."
   ]
  },
  {
   "cell_type": "code",
   "execution_count": 145,
   "metadata": {
    "collapsed": true,
    "deletable": true,
    "editable": true
   },
   "outputs": [],
   "source": [
    "def factor_send_ms_msg(self, other):\n",
    "    \"\"\"\n",
    "    Sends a message to a variable from the current factor.\n",
    "    - other: Variable to send message to.\n",
    "    \"\"\"\n",
    "    if type(other) is not Variable:\n",
    "        raise TypeError('Factor nodes can only send messages to Variables.')\n",
    "\n",
    "    if other not in self.neighbours:\n",
    "        raise ValueError('Cannot send message to a non-neighbour node.')\n",
    "\n",
    "    # Neighbour messages\n",
    "    messages = [self.in_msgs[neighbour] for neighbour in self.neighbours if neighbour != other]\n",
    "    \n",
    "    # Axes to reduce\n",
    "    f_axes = [i for i in range(len(self.neighbours)) if i != self.neighbours.index(other)]\n",
    "    \n",
    "    # Compute message\n",
    "    received_sum = np.add.reduce(np.ix_(*messages))\n",
    "    other_msg = np.expand_dims(received_sum, self.neighbours.index(other))\n",
    "    message = np.array(np.log(self.f) + other_msg)\n",
    "    message = np.apply_over_axes(np.amax, message, f_axes).squeeze()\n",
    "    \n",
    "    print('{} sending message to {}, message is: {}'.format(self.name, other.name, np.exp(message)))\n",
    "\n",
    "    # Send message\n",
    "    other.receive_msg(self, message)\n",
    "    \n",
    "    # \"Modify the send_msg functions to remove pending messages as they are sent.\"\n",
    "    self.pending.remove(other)\n",
    "\n",
    "Factor.send_ms_message = factor_send_ms_msg"
   ]
  },
  {
   "cell_type": "markdown",
   "metadata": {
    "deletable": true,
    "editable": true
   },
   "source": [
    "### 2.2 Variable to factor messages (10 points)\n",
    "Implement the `Variable.send_ms_msg` function that sends Variable -> Factor messages for the max-sum algorithm."
   ]
  },
  {
   "cell_type": "code",
   "execution_count": 146,
   "metadata": {
    "collapsed": true,
    "deletable": true,
    "editable": true
   },
   "outputs": [],
   "source": [
    "def variable_send_ms_message(self, other):\n",
    "    if type(other) is not Factor:\n",
    "        raise TypeError('Variable nodes can only send messages to Factor nodes.')\n",
    "        \n",
    "    if other not in self.neighbours:\n",
    "        raise ValueError('Cannot send message to a non-neighbour node.')\n",
    "    \n",
    "    # Get messages from all neighbours except other\n",
    "    messages = [self.in_msgs[neighbour] for neighbour in self.neighbours if neighbour != other]\n",
    "    \n",
    "    # Get message to be sent\n",
    "    other_messages = np.sum(messages, axis=0) if len(messages) > 0 else np.zeros(self.num_states)\n",
    "    message = other_messages + np.log(self.observed_state)\n",
    "    print('{} sending message to {}, message is: {}'.format(self.name, other.name, message))\n",
    "    \n",
    "    # Send message to neighbour factor.\n",
    "    other.receive_msg(self, message)\n",
    "    \n",
    "    # \"Modify the send_msg functions to remove pending messages as they are sent.\"\n",
    "    self.pending.remove(other)\n",
    "    \n",
    "Variable.send_ms_message = variable_send_ms_message"
   ]
  },
  {
   "cell_type": "markdown",
   "metadata": {
    "deletable": true,
    "editable": true
   },
   "source": [
    "### 2.3 Find a MAP state (10 points)\n",
    "\n",
    "Using the same message passing schedule we used for sum-product, implement the max-sum algorithm. For simplicity, we will ignore issues relating to non-unique maxima. So there is no need to implement backtracking; the MAP state is obtained by a per-node maximization (eq. 8.98 in Bishop). Make sure your algorithm works with both latent and observed variables."
   ]
  },
  {
   "cell_type": "code",
   "execution_count": 152,
   "metadata": {
    "collapsed": false,
    "deletable": true,
    "editable": true
   },
   "outputs": [
    {
     "name": "stdout",
     "output_type": "stream",
     "text": [
      "f1 sending message to Influenza, message is: [ 0.95  0.05]\n",
      "f7 sending message to Smokes, message is: [ 0.8  0.2]\n",
      "SoreThroat sending message to f2, message is: [ 0.  0.]\n",
      "Fever sending message to f3, message is: [ 0.  0.]\n",
      "Choughing sending message to f5, message is: [ 0.  0.]\n",
      "f2 sending message to Influenza, message is: [ 0.999  0.7  ]\n",
      "f3 sending message to Influenza, message is: [ 0.95  0.9 ]\n",
      "Smokes sending message to f4, message is: [-0.22314355 -1.60943791]\n",
      "Influenza sending message to f4, message is: [-0.10358709 -3.45776773]\n",
      "f4 sending message to Bronchitis, message is: [ 0.72120587  0.12622365]\n",
      "f5 sending message to Bronchitis, message is: [ 0.93  0.8 ]\n",
      "Bronchitis sending message to f6, message is: [-14.2149119  -2.2928435]\n",
      "f6 sending message to Wheeze, message is: [ 0.04039157  0.06058735]\n",
      "------\n",
      "Wheeze sending message to f6, message is: [ 0.  0.]\n",
      "f6 sending message to Bronchitis, message is: [ 0.999  0.6  ]\n",
      "Bronchitis sending message to f4, message is: [-13.88908175  -0.73396918]\n",
      "Bronchitis sending message to f5, message is: [-14.1433417   -2.58052557]\n",
      "f5 sending message to Choughing, message is: [ 0.01514684  0.06058735]\n",
      "f4 sending message to Smokes, message is: [ 0.013608    0.30293676]\n",
      "f4 sending message to Influenza, message is: [ 0.0672  0.3456]\n",
      "Influenza sending message to f3, message is: [-2.75237583 -4.41488046]\n",
      "Influenza sending message to f2, message is: [-2.80266862 -4.16356603]\n",
      "Influenza sending message to f1, message is: [-2.75237583 -1.5245087 ]\n",
      "Smokes sending message to f7, message is: [-4.29709742 -1.19423121]\n",
      "f3 sending message to Fever, message is: [ 0.06058735  0.0108864 ]\n",
      "f2 sending message to SoreThroat, message is: [ 0.06058735  0.0046656 ]\n",
      "------\n",
      "MAP:\n",
      "Name: SoreThroat , Solution MAP-value: 0, marginal: [ 0.34311562  0.65688438]\n",
      "Name: Fever , Solution MAP-value: 0, marginal: [ 0.38281042  0.61718958]\n",
      "Name: Choughing , Solution MAP-value: 1, marginal: [ 0.59911118  0.40088882]\n",
      "Name: Smokes , Solution MAP-value: 1, marginal: [ 0.61718958  0.38281042]\n",
      "Name: Influenza , Solution MAP-value: 0, marginal: [ 0.38281042  0.61718958]\n",
      "Name: Bronchitis , Solution MAP-value: 1, marginal: [ 0.83526803  0.16473197]\n",
      "Name: Wheeze , Solution MAP-value: 1, marginal: [ 0.53371681  0.46628319]\n"
     ]
    }
   ],
   "source": [
    "# YOUR ANSWER HERE\n",
    "def max_sum(node_list):\n",
    "    \"\"\"\n",
    "    node_list is a list of nodes ordered from leaf -> root.\n",
    "    \"\"\"\n",
    "    for node in node_list:\n",
    "        for pending in list(node.pending):\n",
    "            node.send_ms_message(pending)\n",
    "    print('------')\n",
    "    \n",
    "# Init vars\n",
    "infl, sthroat, fever, bronch, chough, smokes, wheeze = init_vars()\n",
    "f1,f2,f3,f4,f5,f6,f7 = init_factors(infl, sthroat, fever, bronch, chough, smokes, wheeze)\n",
    "\n",
    "# Leafs\n",
    "f1.pending.update([infl])\n",
    "f7.pending.update([smokes])\n",
    "sthroat.pending.update([f2])\n",
    "fever.pending.update([f3])\n",
    "chough.pending.update([f5])\n",
    "# wheeze.pending.update([f6])\n",
    "#### TEST RUN\n",
    "#### Set smokes as root node. \n",
    "# node_list = [f1, f7, sthroat, fever, wheeze, chough, f2,f3,f5,f6,infl,bronch,f4,smokes]\n",
    "node_list = [f1,f7,sthroat,fever,chough,f2,f3,smokes,infl,f4,f5,bronch,f6,wheeze]\n",
    "\n",
    "testing_observed = True\n",
    "if testing_observed:\n",
    "    bronch.set_observed(1)\n",
    "\n",
    "# first pass\n",
    "max_sum(node_list)\n",
    "\n",
    "wheeze.pending.update([f6])\n",
    "\n",
    "# second pass\n",
    "max_sum(reversed(node_list))\n",
    "\n",
    "# SHOULD USE FUNCTIONS HERE\n",
    "print('MAP:')\n",
    "for node in node_list:\n",
    "    if type(node) is Variable:\n",
    "        messages = [node.in_msgs[neighbour] for neighbour in node.neighbours]\n",
    "        \n",
    "        message = np.sum(messages, axis=0) + np.log(node.observed_state)\n",
    "        map_node = np.argmax(message)\n",
    "        \n",
    "        marginal, _ = node.marginal(Z=None, max_sum=True)\n",
    "        print('Name: {} , Solution MAP-value: {}, marginal: {}'.format(node.name, map_node, marginal))"
   ]
  },
  {
   "cell_type": "markdown",
   "metadata": {
    "deletable": true,
    "editable": true
   },
   "source": [
    "## Part 3: Image Denoising and Loopy BP\n",
    "\n",
    "Next, we will use a loopy version of max-sum to perform denoising on a binary image. The model itself is discussed in Bishop 8.3.3, but we will use loopy max-sum instead of Iterative Conditional Modes as Bishop does.\n",
    "\n",
    "The following code creates some toy data: `im` is a quite large binary image and `test_im` is a smaller synthetic binary image. Noisy versions are also provided."
   ]
  },
  {
   "cell_type": "code",
   "execution_count": 135,
   "metadata": {
    "collapsed": false,
    "deletable": true,
    "editable": true
   },
   "outputs": [
    {
     "data": {
      "text/plain": [
       "<matplotlib.image.AxesImage at 0x1118746d8>"
      ]
     },
     "execution_count": 135,
     "metadata": {},
     "output_type": "execute_result"
    },
    {
     "data": {
      "image/png": "[encoded data removed]",
      "text/plain": [
       "<matplotlib.figure.Figure at 0x10f487978>"
      ]
     },
     "metadata": {},
     "output_type": "display_data"
    },
    {
     "data": {
      "image/png": "[encoded data removed]",
      "text/plain": [
       "<matplotlib.figure.Figure at 0x10e1747f0>"
      ]
     },
     "metadata": {},
     "output_type": "display_data"
    },
    {
     "data": {
      "image/png": "[encoded data removed]",
      "text/plain": [
       "<matplotlib.figure.Figure at 0x111516320>"
      ]
     },
     "metadata": {},
     "output_type": "display_data"
    },
    {
     "data": {
      "image/png": "[encoded data removed]",
      "text/plain": [
       "<matplotlib.figure.Figure at 0x1116b4710>"
      ]
     },
     "metadata": {},
     "output_type": "display_data"
    }
   ],
   "source": [
    "from pylab import imread, gray\n",
    "# Load the image and binarize\n",
    "im = np.mean(imread('dalmatian1.png'), axis=2) > 0.5\n",
    "imshow(im)\n",
    "gray()\n",
    "\n",
    "# Add some noise\n",
    "noise = np.random.rand(*im.shape) > 0.9\n",
    "noise_im = np.logical_xor(noise, im)\n",
    "figure()\n",
    "imshow(noise_im)\n",
    "\n",
    "test_im = np.zeros((10,10))\n",
    "#test_im[5:8, 3:8] = 1.0\n",
    "#test_im[5,5] = 1.0\n",
    "figure()\n",
    "imshow(test_im)\n",
    "\n",
    "# Add some noise\n",
    "noise = np.random.rand(*test_im.shape) > 0.9\n",
    "noise_test_im = np.logical_xor(noise, test_im)\n",
    "figure()\n",
    "imshow(noise_test_im)"
   ]
  },
  {
   "cell_type": "markdown",
   "metadata": {
    "deletable": true,
    "editable": true
   },
   "source": [
    "### 3.1 Construct factor graph (10 points)\n",
    "Convert the Markov Random Field (Bishop, fig. 8.31) to a factor graph and instantiate it."
   ]
  },
  {
   "cell_type": "code",
   "execution_count": 6,
   "metadata": {
    "collapsed": true,
    "deletable": true,
    "editable": true
   },
   "outputs": [],
   "source": [
    "# YOUR ANSWER HERE"
   ]
  },
  {
   "cell_type": "markdown",
   "metadata": {
    "deletable": true,
    "editable": true
   },
   "source": [
    "### 3.2 Loopy max-sum (10 points)\n",
    "Implement the loopy max-sum algorithm, by passing messages from randomly chosen nodes iteratively until no more pending messages are created or a maximum number of iterations is reached. \n",
    "\n",
    "Think of a good way to initialize the messages in the graph."
   ]
  },
  {
   "cell_type": "code",
   "execution_count": 7,
   "metadata": {
    "collapsed": true,
    "deletable": true,
    "editable": true
   },
   "outputs": [],
   "source": [
    "# YOUR ANSWER hErE"
   ]
  }
 ],
 "metadata": {
  "kernelspec": {
   "display_name": "Python 3",
   "language": "python",
   "name": "python3"
  },
  "language_info": {
   "codemirror_mode": {
    "name": "ipython",
    "version": 3
   },
   "file_extension": ".py",
   "mimetype": "text/x-python",
   "name": "python",
   "nbconvert_exporter": "python",
   "pygments_lexer": "ipython3",
   "version": "3.5.1"
  }
 },
 "nbformat": 4,
 "nbformat_minor": 0
}
